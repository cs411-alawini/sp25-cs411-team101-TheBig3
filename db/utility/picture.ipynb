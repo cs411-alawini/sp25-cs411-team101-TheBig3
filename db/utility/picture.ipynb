{
 "cells": [
  {
   "cell_type": "code",
   "execution_count": 7,
   "metadata": {},
   "outputs": [],
   "source": [
    "import msgpack\n",
    "import io\n",
    "from PIL import Image\n",
    "import pandas as pd\n",
    "\n",
    "#function that given the path of the msgpack and the id, will open up the image\n",
    "\n",
    "def unpack_image(msgpack_path, image_id):\n",
    "    with open(msgpack_path, 'rb') as f:\n",
    "        unpacker = msgpack.Unpacker(f, raw=False)\n",
    "\n",
    "        for record in unpacker:\n",
    "            record_id = record.get(\"id\")\n",
    "            if record_id == image_id:\n",
    "                img_bytes = record.get(\"image\") or record.get(\"data\")\n",
    "                if img_bytes is None:\n",
    "                    print(\"No image data found for that record.\")\n",
    "                    return\n",
    "\n",
    "                img = Image.open(io.BytesIO(img_bytes))\n",
    "                img.show()\n",
    "                return\n",
    "\n",
    "        print(f\"No image with ID '{image_id}' found in the file.\")\n",
    "\n",
    "\n",
    "df_images = pd.read_csv(\"./yfcc_coords.csv\")\n",
    "\n",
    "# Pick the image ID from the CSV\n",
    "image_id = df_images.loc[0]['id']  # e.g., \"ba/08/6468190417.jpg\"\n",
    "\n",
    "#this is local for now, but will probably have to load from gcloud bucket\n",
    "msgpack_file = \"/Users/fluffy/Downloads/shard_0.msg\"\n",
    "\n",
    "# Show the image\n",
    "unpack_image(msgpack_file, image_id)\n"
   ]
  }
 ],
 "metadata": {
  "kernelspec": {
   "display_name": "Python (msg-env)",
   "language": "python",
   "name": "msg-env"
  },
  "language_info": {
   "codemirror_mode": {
    "name": "ipython",
    "version": 3
   },
   "file_extension": ".py",
   "mimetype": "text/x-python",
   "name": "python",
   "nbconvert_exporter": "python",
   "pygments_lexer": "ipython3",
   "version": "3.13.2"
  }
 },
 "nbformat": 4,
 "nbformat_minor": 2
}
